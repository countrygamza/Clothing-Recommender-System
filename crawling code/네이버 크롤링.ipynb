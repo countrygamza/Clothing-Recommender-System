{
 "cells": [
  {
   "cell_type": "code",
   "execution_count": 1,
   "metadata": {},
   "outputs": [],
   "source": [
    "from selenium import webdriver\n",
    "from bs4 import BeautifulSoup\n",
    "from urllib.request import urlretrieve\n",
    "import os\n",
    "import requests\n",
    "import time\n",
    "from random import uniform\n",
    "import pandas as pd"
   ]
  },
  {
   "cell_type": "markdown",
   "metadata": {},
   "source": [
    "# 여성 or 남성 웹브라우저 선택하시오\n",
    "## 세부 카테고리 선택\n",
    "## Ex)여성 상의 -> 블라우스/셔츠"
   ]
  },
  {
   "cell_type": "code",
   "execution_count": 2,
   "metadata": {},
   "outputs": [],
   "source": [
    "driver = webdriver.Chrome('chromedriver')\n",
    "driver.implicitly_wait(3)\n",
    "#여성\n",
    "driver.get('https://shopping.naver.com/style/style/category?menu=10000532')\n",
    "#남성\n",
    "#driver.get('https://shopping.naver.com/style/style/category?menu=10000623')"
   ]
  },
  {
   "cell_type": "code",
   "execution_count": 3,
   "metadata": {},
   "outputs": [
    {
     "name": "stderr",
     "output_type": "stream",
     "text": [
      "ERROR:root:Internal Python error in the inspect module.\n",
      "Below is the traceback from this internal error.\n",
      "\n"
     ]
    },
    {
     "name": "stdout",
     "output_type": "stream",
     "text": [
      "Traceback (most recent call last):\n",
      "  File \"C:\\big8\\Anaconda3\\lib\\site-packages\\IPython\\core\\interactiveshell.py\", line 3296, in run_code\n",
      "    exec(code_obj, self.user_global_ns, self.user_ns)\n",
      "  File \"<ipython-input-3-59bb3a7c5f5f>\", line 15, in <module>\n",
      "    time.sleep(f)\n",
      "KeyboardInterrupt\n",
      "\n",
      "During handling of the above exception, another exception occurred:\n",
      "\n",
      "Traceback (most recent call last):\n",
      "  File \"C:\\big8\\Anaconda3\\lib\\site-packages\\IPython\\core\\interactiveshell.py\", line 2033, in showtraceback\n",
      "    stb = value._render_traceback_()\n",
      "AttributeError: 'KeyboardInterrupt' object has no attribute '_render_traceback_'\n",
      "\n",
      "During handling of the above exception, another exception occurred:\n",
      "\n",
      "Traceback (most recent call last):\n",
      "  File \"C:\\big8\\Anaconda3\\lib\\site-packages\\IPython\\core\\ultratb.py\", line 1095, in get_records\n",
      "    return _fixed_getinnerframes(etb, number_of_lines_of_context, tb_offset)\n",
      "  File \"C:\\big8\\Anaconda3\\lib\\site-packages\\IPython\\core\\ultratb.py\", line 313, in wrapped\n",
      "    return f(*args, **kwargs)\n",
      "  File \"C:\\big8\\Anaconda3\\lib\\site-packages\\IPython\\core\\ultratb.py\", line 347, in _fixed_getinnerframes\n",
      "    records = fix_frame_records_filenames(inspect.getinnerframes(etb, context))\n",
      "  File \"C:\\big8\\Anaconda3\\lib\\inspect.py\", line 1490, in getinnerframes\n",
      "    frameinfo = (tb.tb_frame,) + getframeinfo(tb, context)\n",
      "  File \"C:\\big8\\Anaconda3\\lib\\inspect.py\", line 1448, in getframeinfo\n",
      "    filename = getsourcefile(frame) or getfile(frame)\n",
      "  File \"C:\\big8\\Anaconda3\\lib\\inspect.py\", line 696, in getsourcefile\n",
      "    if getattr(getmodule(object, filename), '__loader__', None) is not None:\n",
      "  File \"C:\\big8\\Anaconda3\\lib\\inspect.py\", line 739, in getmodule\n",
      "    f = getabsfile(module)\n",
      "  File \"C:\\big8\\Anaconda3\\lib\\inspect.py\", line 708, in getabsfile\n",
      "    _filename = getsourcefile(object) or getfile(object)\n",
      "  File \"C:\\big8\\Anaconda3\\lib\\inspect.py\", line 693, in getsourcefile\n",
      "    if os.path.exists(filename):\n",
      "  File \"C:\\big8\\Anaconda3\\lib\\genericpath.py\", line 19, in exists\n",
      "    os.stat(path)\n",
      "KeyboardInterrupt\n"
     ]
    },
    {
     "ename": "KeyboardInterrupt",
     "evalue": "",
     "output_type": "error",
     "traceback": [
      "\u001b[1;31m---------------------------------------------------------------------------\u001b[0m"
     ]
    }
   ],
   "source": [
    "# 스크롤\n",
    "link_list = []\n",
    "\n",
    "for scr in range(10000):\n",
    "    html = driver.page_source\n",
    "    soup = BeautifulSoup(html, 'html.parser')\n",
    "    links = soup.select('div._1aNmedx3I0 > ul._3KH4iCkMJ_ > li > div > a')\n",
    "    f = uniform(2.0, 2.5)\n",
    "    \n",
    "    last_height = driver.execute_script(\"return document.body.scrollHeight\")\n",
    "    \n",
    "    driver.execute_script(\"window.scrollTo(0, document.body.scrollHeight);\")\n",
    "    time.sleep(f)\n",
    "    driver.execute_script(\"window.scrollTo(0, document.body.scrollHeight);\")\n",
    "    time.sleep(f)\n",
    "    \n",
    "    \n",
    "    new_height = driver.execute_script(\"return document.body.scrollHeight\")\n",
    "    \n",
    "    for link in links:\n",
    "        link_list.append('https://shopping.naver.com'+link['href'])\n",
    "        \n",
    "    \n",
    "    if new_height == last_height:\n",
    "\n",
    "            # try again (can be removed)\n",
    "            driver.execute_script(\"window.scrollTo(0, document.body.scrollHeight);\")\n",
    "\n",
    "            # Wait to load page\n",
    "            time.sleep(f)\n",
    "\n",
    "            # Calculate new scroll height and compare with last scroll height\n",
    "            new_height = driver.execute_script(\"return document.body.scrollHeight\")\n",
    "\n",
    "            # check if the page height has remained the same\n",
    "            if new_height == last_height:\n",
    "                # if so, you are done\n",
    "                break\n",
    "            # if not, move on to the next loop\n",
    "            else:\n",
    "                last_height = new_height\n",
    "                continue \n",
    "                "
   ]
  },
  {
   "cell_type": "code",
   "execution_count": null,
   "metadata": {},
   "outputs": [],
   "source": [
    "links"
   ]
  },
  {
   "cell_type": "code",
   "execution_count": 9,
   "metadata": {},
   "outputs": [
    {
     "data": {
      "text/plain": [
       "['https://shopping.naver.com/style/style/stores/1000003446/products/4663082801',\n",
       " 'https://shopping.naver.com/style/style/stores/1000012673/products/4663080279',\n",
       " 'https://shopping.naver.com/style/style/stores/100172232/products/4663079829',\n",
       " 'https://shopping.naver.com/style/style/stores/1000015392/products/4663079794',\n",
       " 'https://shopping.naver.com/style/style/stores/1000004427/products/4663079348',\n",
       " 'https://shopping.naver.com/style/style/stores/1000025439/products/4663074292#INTRODUCE',\n",
       " 'https://shopping.naver.com/style/style/stores/1000017495/products/4663078905',\n",
       " 'https://shopping.naver.com/style/style/stores/1000006475/products/4663078647',\n",
       " 'https://shopping.naver.com/style/style/stores/100225599/products/4663078203',\n",
       " 'https://shopping.naver.com/style/style/stores/1000012636/products/4663075401',\n",
       " 'https://shopping.naver.com/style/style/stores/1000017920/products/4663075266',\n",
       " 'https://shopping.naver.com/style/style/stores/100013402/products/4661342301#INTRODUCE',\n",
       " 'https://shopping.naver.com/style/style/stores/1000016272/products/4663075995',\n",
       " 'https://shopping.naver.com/style/style/stores/100345635/products/4663075814',\n",
       " 'https://shopping.naver.com/style/style/stores/100267767/products/4663076777',\n",
       " 'https://shopping.naver.com/style/style/stores/1000012636/products/4663076177',\n",
       " 'https://shopping.naver.com/style/style/stores/100103956/products/4663074828',\n",
       " 'https://shopping.naver.com/style/style/stores/100165070/products/4661945149#INTRODUCE',\n",
       " 'https://shopping.naver.com/style/style/stores/1000016247/products/4663074188',\n",
       " 'https://shopping.naver.com/style/style/stores/1000025439/products/4663074292',\n",
       " 'https://shopping.naver.com/style/style/stores/1000003958/products/4663074287',\n",
       " 'https://shopping.naver.com/style/style/stores/1000009297/products/4663073000',\n",
       " 'https://shopping.naver.com/style/style/stores/100158962/products/4663072845',\n",
       " 'https://shopping.naver.com/style/style/stores/1000025439/products/4663074292#INTRODUCE',\n",
       " 'https://shopping.naver.com/style/style/stores/1000018848/products/4663072517',\n",
       " 'https://shopping.naver.com/style/style/stores/100284944/products/4663070841',\n",
       " 'https://shopping.naver.com/style/style/stores/1000012636/products/4663070768',\n",
       " 'https://shopping.naver.com/style/style/stores/1000007213/products/4663070357',\n",
       " 'https://shopping.naver.com/style/style/stores/1000004313/products/4663069866',\n",
       " 'https://shopping.naver.com/style/style/stores/100103956/products/4663074828#INTRODUCE',\n",
       " 'https://shopping.naver.com/style/style/stores/1000024851/products/4663069855',\n",
       " 'https://shopping.naver.com/style/style/stores/100232513/products/4663069663',\n",
       " 'https://shopping.naver.com/style/style/stores/1000002700/products/4663069386',\n",
       " 'https://shopping.naver.com/style/style/stores/100322283/products/4663068799',\n",
       " 'https://shopping.naver.com/style/style/stores/1000010795/products/4663068680',\n",
       " 'https://shopping.naver.com/style/style/stores/1000013688/products/4654843323#INTRODUCE',\n",
       " 'https://shopping.naver.com/style/style/stores/1000012636/products/4663066806',\n",
       " 'https://shopping.naver.com/style/style/stores/1000010256/products/4663064588',\n",
       " 'https://shopping.naver.com/style/style/stores/100385878/products/4663066420',\n",
       " 'https://shopping.naver.com/style/style/stores/1000003446/products/4663065612',\n",
       " 'https://shopping.naver.com/style/style/stores/100435093/products/4663064882',\n",
       " 'https://shopping.naver.com/style/style/stores/100013402/products/4661342301#INTRODUCE',\n",
       " 'https://shopping.naver.com/style/style/stores/1000005082/products/4663064779',\n",
       " 'https://shopping.naver.com/style/style/stores/1000013170/products/4663061226',\n",
       " 'https://shopping.naver.com/style/style/stores/100152968/products/4663059967',\n",
       " 'https://shopping.naver.com/style/style/stores/100379092/products/4663060163',\n",
       " 'https://shopping.naver.com/style/style/stores/1000005648/products/4663057521',\n",
       " 'https://shopping.naver.com/style/style/stores/100103956/products/4663074828#INTRODUCE',\n",
       " 'https://shopping.naver.com/style/style/stores/1000006475/products/4663057212',\n",
       " 'https://shopping.naver.com/style/style/stores/100023349/products/4663057757',\n",
       " 'https://shopping.naver.com/style/style/stores/100417845/products/4663056183',\n",
       " 'https://shopping.naver.com/style/style/stores/1000004359/products/4663055908',\n",
       " 'https://shopping.naver.com/style/style/stores/100219806/products/4663053113',\n",
       " 'https://shopping.naver.com/style/style/stores/1000006475/products/4658919902#INTRODUCE',\n",
       " 'https://shopping.naver.com/style/style/stores/100267767/products/4663055269',\n",
       " 'https://shopping.naver.com/style/style/stores/1000024326/products/4663052443',\n",
       " 'https://shopping.naver.com/style/style/stores/1000017495/products/4663052395',\n",
       " 'https://shopping.naver.com/style/style/stores/1000016247/products/4663054399',\n",
       " 'https://shopping.naver.com/style/style/stores/100253111/products/4663051664',\n",
       " 'https://shopping.naver.com/style/style/stores/100103956/products/4663074828#INTRODUCE']"
      ]
     },
     "execution_count": 9,
     "metadata": {},
     "output_type": "execute_result"
    }
   ],
   "source": [
    "link_list"
   ]
  },
  {
   "cell_type": "code",
   "execution_count": 27,
   "metadata": {},
   "outputs": [],
   "source": [
    "link_list = list(set(link_list))"
   ]
  },
  {
   "cell_type": "code",
   "execution_count": 28,
   "metadata": {},
   "outputs": [],
   "source": [
    "# csv 파일로 저장\n",
    "import pandas as pd\n",
    "results = pd.DataFrame(link_list, columns=['link_addr'])\n",
    "results.to_csv('./link_addr2.csv', header=False) #, mode='a', header=False)"
   ]
  },
  {
   "cell_type": "code",
   "execution_count": 22,
   "metadata": {},
   "outputs": [],
   "source": [
    "# csv 파일 가져오기\n",
    "import csv\n",
    "f = open('./link_addr2.csv','rt')\n",
    "link_addr_file = csv.reader(f)"
   ]
  },
  {
   "cell_type": "code",
   "execution_count": 23,
   "metadata": {},
   "outputs": [],
   "source": [
    "link_list = []\n",
    "for row in link_addr_file :\n",
    "    link_list.append(row[1])"
   ]
  },
  {
   "cell_type": "markdown",
   "metadata": {},
   "source": [
    "  # 가져올 카테고리 명을 입력하세요 "
   ]
  },
  {
   "cell_type": "code",
   "execution_count": 24,
   "metadata": {},
   "outputs": [
    {
     "name": "stdout",
     "output_type": "stream",
     "text": [
      "https://shopping.naver.com/style/style/stores/100371518/products/4366659418\n",
      "https://shopping.naver.com/style/style/stores/100013780/products/4382846659\n",
      "https://shopping.naver.com/style/style/stores/100245905/products/4385123664\n"
     ]
    },
    {
     "ename": "WebDriverException",
     "evalue": "Message: chrome not reachable\n  (Session info: chrome=73.0.3683.86)\n  (Driver info: chromedriver=2.35.528161 (5b82f2d2aae0ca24b877009200ced9065a772e73),platform=Windows NT 10.0.17134 x86_64)\n",
     "output_type": "error",
     "traceback": [
      "\u001b[1;31m---------------------------------------------------------------------------\u001b[0m",
      "\u001b[1;31mWebDriverException\u001b[0m                        Traceback (most recent call last)",
      "\u001b[1;32m<ipython-input-24-b9b9205d17ad>\u001b[0m in \u001b[0;36m<module>\u001b[1;34m()\u001b[0m\n\u001b[0;32m      5\u001b[0m     \u001b[0mtext_list\u001b[0m \u001b[1;33m=\u001b[0m \u001b[1;33m[\u001b[0m\u001b[1;33m]\u001b[0m\u001b[1;33m\u001b[0m\u001b[0m\n\u001b[0;32m      6\u001b[0m \u001b[1;33m\u001b[0m\u001b[0m\n\u001b[1;32m----> 7\u001b[1;33m     \u001b[0mdriver\u001b[0m\u001b[1;33m.\u001b[0m\u001b[0mget\u001b[0m\u001b[1;33m(\u001b[0m\u001b[0mlink_list\u001b[0m\u001b[1;33m[\u001b[0m\u001b[0mi\u001b[0m\u001b[1;33m]\u001b[0m\u001b[1;33m)\u001b[0m\u001b[1;33m\u001b[0m\u001b[0m\n\u001b[0m\u001b[0;32m      8\u001b[0m     \u001b[0mprint\u001b[0m\u001b[1;33m(\u001b[0m\u001b[0mlink_list\u001b[0m\u001b[1;33m[\u001b[0m\u001b[0mi\u001b[0m\u001b[1;33m]\u001b[0m\u001b[1;33m)\u001b[0m\u001b[1;33m\u001b[0m\u001b[0m\n\u001b[0;32m      9\u001b[0m \u001b[1;33m\u001b[0m\u001b[0m\n",
      "\u001b[1;32m~\\Anaconda3\\lib\\site-packages\\selenium\\webdriver\\remote\\webdriver.py\u001b[0m in \u001b[0;36mget\u001b[1;34m(self, url)\u001b[0m\n\u001b[0;32m    331\u001b[0m         \u001b[0mLoads\u001b[0m \u001b[0ma\u001b[0m \u001b[0mweb\u001b[0m \u001b[0mpage\u001b[0m \u001b[1;32min\u001b[0m \u001b[0mthe\u001b[0m \u001b[0mcurrent\u001b[0m \u001b[0mbrowser\u001b[0m \u001b[0msession\u001b[0m\u001b[1;33m.\u001b[0m\u001b[1;33m\u001b[0m\u001b[0m\n\u001b[0;32m    332\u001b[0m         \"\"\"\n\u001b[1;32m--> 333\u001b[1;33m         \u001b[0mself\u001b[0m\u001b[1;33m.\u001b[0m\u001b[0mexecute\u001b[0m\u001b[1;33m(\u001b[0m\u001b[0mCommand\u001b[0m\u001b[1;33m.\u001b[0m\u001b[0mGET\u001b[0m\u001b[1;33m,\u001b[0m \u001b[1;33m{\u001b[0m\u001b[1;34m'url'\u001b[0m\u001b[1;33m:\u001b[0m \u001b[0murl\u001b[0m\u001b[1;33m}\u001b[0m\u001b[1;33m)\u001b[0m\u001b[1;33m\u001b[0m\u001b[0m\n\u001b[0m\u001b[0;32m    334\u001b[0m \u001b[1;33m\u001b[0m\u001b[0m\n\u001b[0;32m    335\u001b[0m     \u001b[1;33m@\u001b[0m\u001b[0mproperty\u001b[0m\u001b[1;33m\u001b[0m\u001b[0m\n",
      "\u001b[1;32m~\\Anaconda3\\lib\\site-packages\\selenium\\webdriver\\remote\\webdriver.py\u001b[0m in \u001b[0;36mexecute\u001b[1;34m(self, driver_command, params)\u001b[0m\n\u001b[0;32m    319\u001b[0m         \u001b[0mresponse\u001b[0m \u001b[1;33m=\u001b[0m \u001b[0mself\u001b[0m\u001b[1;33m.\u001b[0m\u001b[0mcommand_executor\u001b[0m\u001b[1;33m.\u001b[0m\u001b[0mexecute\u001b[0m\u001b[1;33m(\u001b[0m\u001b[0mdriver_command\u001b[0m\u001b[1;33m,\u001b[0m \u001b[0mparams\u001b[0m\u001b[1;33m)\u001b[0m\u001b[1;33m\u001b[0m\u001b[0m\n\u001b[0;32m    320\u001b[0m         \u001b[1;32mif\u001b[0m \u001b[0mresponse\u001b[0m\u001b[1;33m:\u001b[0m\u001b[1;33m\u001b[0m\u001b[0m\n\u001b[1;32m--> 321\u001b[1;33m             \u001b[0mself\u001b[0m\u001b[1;33m.\u001b[0m\u001b[0merror_handler\u001b[0m\u001b[1;33m.\u001b[0m\u001b[0mcheck_response\u001b[0m\u001b[1;33m(\u001b[0m\u001b[0mresponse\u001b[0m\u001b[1;33m)\u001b[0m\u001b[1;33m\u001b[0m\u001b[0m\n\u001b[0m\u001b[0;32m    322\u001b[0m             response['value'] = self._unwrap_value(\n\u001b[0;32m    323\u001b[0m                 response.get('value', None))\n",
      "\u001b[1;32m~\\Anaconda3\\lib\\site-packages\\selenium\\webdriver\\remote\\errorhandler.py\u001b[0m in \u001b[0;36mcheck_response\u001b[1;34m(self, response)\u001b[0m\n\u001b[0;32m    240\u001b[0m                 \u001b[0malert_text\u001b[0m \u001b[1;33m=\u001b[0m \u001b[0mvalue\u001b[0m\u001b[1;33m[\u001b[0m\u001b[1;34m'alert'\u001b[0m\u001b[1;33m]\u001b[0m\u001b[1;33m.\u001b[0m\u001b[0mget\u001b[0m\u001b[1;33m(\u001b[0m\u001b[1;34m'text'\u001b[0m\u001b[1;33m)\u001b[0m\u001b[1;33m\u001b[0m\u001b[0m\n\u001b[0;32m    241\u001b[0m             \u001b[1;32mraise\u001b[0m \u001b[0mexception_class\u001b[0m\u001b[1;33m(\u001b[0m\u001b[0mmessage\u001b[0m\u001b[1;33m,\u001b[0m \u001b[0mscreen\u001b[0m\u001b[1;33m,\u001b[0m \u001b[0mstacktrace\u001b[0m\u001b[1;33m,\u001b[0m \u001b[0malert_text\u001b[0m\u001b[1;33m)\u001b[0m\u001b[1;33m\u001b[0m\u001b[0m\n\u001b[1;32m--> 242\u001b[1;33m         \u001b[1;32mraise\u001b[0m \u001b[0mexception_class\u001b[0m\u001b[1;33m(\u001b[0m\u001b[0mmessage\u001b[0m\u001b[1;33m,\u001b[0m \u001b[0mscreen\u001b[0m\u001b[1;33m,\u001b[0m \u001b[0mstacktrace\u001b[0m\u001b[1;33m)\u001b[0m\u001b[1;33m\u001b[0m\u001b[0m\n\u001b[0m\u001b[0;32m    243\u001b[0m \u001b[1;33m\u001b[0m\u001b[0m\n\u001b[0;32m    244\u001b[0m     \u001b[1;32mdef\u001b[0m \u001b[0m_value_or_default\u001b[0m\u001b[1;33m(\u001b[0m\u001b[0mself\u001b[0m\u001b[1;33m,\u001b[0m \u001b[0mobj\u001b[0m\u001b[1;33m,\u001b[0m \u001b[0mkey\u001b[0m\u001b[1;33m,\u001b[0m \u001b[0mdefault\u001b[0m\u001b[1;33m)\u001b[0m\u001b[1;33m:\u001b[0m\u001b[1;33m\u001b[0m\u001b[0m\n",
      "\u001b[1;31mWebDriverException\u001b[0m: Message: chrome not reachable\n  (Session info: chrome=73.0.3683.86)\n  (Driver info: chromedriver=2.35.528161 (5b82f2d2aae0ca24b877009200ced9065a772e73),platform=Windows NT 10.0.17134 x86_64)\n"
     ]
    }
   ],
   "source": [
    "#상세 페이지 들어가서 원하는 정보 저장\n",
    "i = 0\n",
    "\n",
    "while i < len(link_list):\n",
    "    text_list = []\n",
    "    \n",
    "    driver.get(link_list[i])\n",
    "    print(link_list[i])\n",
    "    \n",
    "    f = uniform(1.5, 1.7)\n",
    "    time.sleep(f)\n",
    "    \n",
    "    a = \"\"\n",
    "    a = link_list[i].split(\"/products/\")\n",
    "    a[1][:10]\n",
    "    \n",
    "    i += 1\n",
    "        \n",
    "    html = driver.page_source\n",
    "    soup = BeautifulSoup(html, 'html.parser')\n",
    "    try:\n",
    "        images = soup.select('div._3utq7rRVBL > div.editor_wrap > div > div > div.se_component_wrap > div.se_component > div.se_sectionArea > div.se_editArea > div.se_viewArea > a > img')\n",
    "        name = soup.find('h3','_2IA5sp7BRM').get_text()\n",
    "        price = soup.find('span','_1dpDPg-OQb').get_text()\n",
    "        tag=soup.find('div','_24FKuaBdoK').get_text()\n",
    "        info = [soup.find_all('th','_15qeGNn6Dt')[n].string for n in range(0,20)]\n",
    "        detail = [soup.find_all('td','jvlKiI0U_y')[n].string for n in range(0,20)]\n",
    "        texts = soup.find_all('p', 'se_textarea')\n",
    "\n",
    "\n",
    "        if not os.path.isdir(a[1][:10]):\n",
    "            os.mkdir(a[1][:10])     \n",
    "\n",
    "        for text in texts:\n",
    "            text_list.append(text.get_text().strip().replace(u'\\xa0', u' '))\n",
    "            text_list2 = [zz for zz in text_list if zz]\n",
    "\n",
    "        # 긁어올 카테고리 명을 입력하세요     \n",
    "        data_1 = ({'category':'여성/하의/팬츠', 'name': [name], 'price': [price],'tag':[tag], 'size':[text_list2]})\n",
    "        df1 = pd.DataFrame(data_1)\n",
    "\n",
    "        data_2 = [detail]\n",
    "        df2 = pd.DataFrame(data_2, columns = info)\n",
    "\n",
    "        df3 = pd.concat([df1,df2], axis=1)\n",
    "\n",
    "        df3.to_csv(\".\\\\\"+a[1][:10]+\"\\\\csv_\"+a[1][:10]+\".csv\", index = True, encoding='utf-8')\n",
    "\n",
    "        for image in images:\n",
    "\n",
    "            src_page = requests.get(image['src'], headers={\"Referer\":\"https://www.naver.com/\"})\n",
    "            src_image = src_page.content\n",
    "            with open(\".\\\\\"+a[1][:10]+\"\\\\img_\"+a[1][:10]+'_'+str(images.index(image))+\".png\", \"wb\") as downfile:\n",
    "                downfile.write(src_image)\n",
    "            f = uniform(0.4, 0.6)    \n",
    "            time.sleep(f)\n",
    "\n",
    "    except:\n",
    "        print(\"상품정보 가져오기 오류발생\")\n",
    "        pass   "
   ]
  },
  {
   "cell_type": "code",
   "execution_count": 17,
   "metadata": {},
   "outputs": [],
   "source": [
    "# 드라이버 종료\n",
    "driver.close()"
   ]
  },
  {
   "cell_type": "code",
   "execution_count": null,
   "metadata": {},
   "outputs": [],
   "source": []
  },
  {
   "cell_type": "code",
   "execution_count": null,
   "metadata": {},
   "outputs": [],
   "source": []
  },
  {
   "cell_type": "code",
   "execution_count": null,
   "metadata": {},
   "outputs": [],
   "source": []
  },
  {
   "cell_type": "code",
   "execution_count": null,
   "metadata": {},
   "outputs": [],
   "source": []
  },
  {
   "cell_type": "code",
   "execution_count": null,
   "metadata": {},
   "outputs": [],
   "source": []
  },
  {
   "cell_type": "code",
   "execution_count": null,
   "metadata": {},
   "outputs": [],
   "source": []
  },
  {
   "cell_type": "code",
   "execution_count": null,
   "metadata": {},
   "outputs": [],
   "source": []
  },
  {
   "cell_type": "code",
   "execution_count": null,
   "metadata": {},
   "outputs": [],
   "source": []
  },
  {
   "cell_type": "code",
   "execution_count": null,
   "metadata": {},
   "outputs": [],
   "source": []
  },
  {
   "cell_type": "code",
   "execution_count": null,
   "metadata": {},
   "outputs": [],
   "source": []
  }
 ],
 "metadata": {
  "kernelspec": {
   "display_name": "Python 3",
   "language": "python",
   "name": "python3"
  },
  "language_info": {
   "codemirror_mode": {
    "name": "ipython",
    "version": 3
   },
   "file_extension": ".py",
   "mimetype": "text/x-python",
   "name": "python",
   "nbconvert_exporter": "python",
   "pygments_lexer": "ipython3",
   "version": "3.6.8"
  }
 },
 "nbformat": 4,
 "nbformat_minor": 2
}
